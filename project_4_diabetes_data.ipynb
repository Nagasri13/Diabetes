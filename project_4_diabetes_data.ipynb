{
 "cells": [
  {
   "cell_type": "markdown",
   "id": "48eb4491",
   "metadata": {},
   "source": [
    "# About Dataset\n",
    "Context\n",
    "This dataset is originally from the National Institute of Diabetes and Digestive and Kidney Diseases. The objective is to predict based on diagnostic measurements whether a patient has diabetes.\n",
    "\n",
    "Content\n",
    "Several constraints were placed on the selection of these instances from a larger database. In particular, all patients here are females at least 21 years old of Pima Indian heritage.\n",
    "\n",
    "Pregnancies: Number of times pregnant\n",
    "Glucose: Plasma glucose concentration a 2 hours in an oral glucose tolerance test\n",
    "BloodPressure: Diastolic blood pressure (mm Hg)\n",
    "SkinThickness: Triceps skin fold thickness (mm)\n",
    "Insulin: 2-Hour serum insulin (mu U/ml)\n",
    "BMI: Body mass index (weight in kg/(height in m)^2)\n",
    "DiabetesPedigreeFunction: Diabetes pedigree function\n",
    "Age: Age (years)\n",
    "Outcome: Class variable (0 or 1)"
   ]
  },
  {
   "cell_type": "raw",
   "id": "80f061a1",
   "metadata": {},
   "source": [
    "Pregnancies: Number of times pregnant \n",
    "\n",
    "Glucose: Plasma glucose concentration a 2 hours in an oral glucose tolerance test \n",
    "\n",
    "BloodPressure: Diastolic blood pressure (mm Hg) \n",
    "\n",
    "SkinThickness: Triceps skin fold thickness (mm)\n",
    "\n",
    "Insulin: 2-Hour serum insulin (mu U/ml)\n",
    "\n",
    "BMI: Body mass index (weight in kg/(height in m)^2)\n",
    "\n",
    "DiabetesPedigreeFunction: Diabetes pedigree function \n",
    "\n",
    "Age: Age (years)\n",
    "\n",
    "Outcome: Class variable (0 or 1)"
   ]
  },
  {
   "cell_type": "code",
   "execution_count": 4,
   "id": "520987b6",
   "metadata": {},
   "outputs": [],
   "source": [
    "data_library= {'Pregnancies': 'Number of times pregnant', 'Glucose': 'Plasma glucose concentration a 2 hours in an oral glucose tolerance test','BloodPressure':'Diastolic blood pressure (mm Hg)', 'SkinThickness': 'Triceps skin fold thickness (mm)', 'Insulin': '2-Hour serum insulin (mu U/ml)','BMI': 'Body mass index (weight in kg/(height in m)^2)','DiabetesPedigreeFunction': 'Diabetes pedigree function','Age': 'Age (years)', 'Outcome': 'Class variable (0 or 1)'}"
   ]
  },
  {
   "cell_type": "code",
   "execution_count": 6,
   "id": "5c29c124",
   "metadata": {},
   "outputs": [
    {
     "data": {
      "text/plain": [
       "'Number of times pregnant'"
      ]
     },
     "execution_count": 6,
     "metadata": {},
     "output_type": "execute_result"
    }
   ],
   "source": [
    "data_library['Pregnancies']"
   ]
  },
  {
   "cell_type": "markdown",
   "id": "7590850b",
   "metadata": {},
   "source": [
    "# importing libraries"
   ]
  },
  {
   "cell_type": "code",
   "execution_count": 8,
   "id": "0d8e0173",
   "metadata": {},
   "outputs": [],
   "source": [
    "import pandas as pd\n",
    "import numpy as np # linear algebra\n",
    "import pandas as pd # data processing, CSV file I/O (e.g. pd.read_csv)\n",
    "import matplotlib.pyplot as plt\n",
    "import seaborn as sns\n",
    "from sklearn.model_selection import train_test_split\n",
    "from sklearn.linear_model import LogisticRegression\n",
    "from sklearn.metrics import classification_report, accuracy_score\n",
    "from scipy.stats import shapiro , pearsonr\n",
    "import statsmodels.api as sm\n",
    "import warnings \n",
    "warnings.filterwarnings('ignore')\n",
    "from sklearn.ensemble import RandomForestClassifier\n",
    "from sklearn.tree import DecisionTreeClassifier,plot_tree\n",
    "import missingno as msn"
   ]
  },
  {
   "cell_type": "code",
   "execution_count": 23,
   "id": "5308d730",
   "metadata": {},
   "outputs": [],
   "source": [
    "def miss_val(x):\n",
    "    miss_val =[]\n",
    "    for i in x.columns:\n",
    "        for j in x[i]:\n",
    "            if x[x[i].isna()].shape[0]>=1:\n",
    "                miss_val.extend(x[x[i].isna()].index)\n",
    "    return miss_val\n",
    "\n",
    "            \n",
    "            \n",
    "def univariate_outlier(x):\n",
    "    q1 = df[x].describe().T[\"25%\"]\n",
    "    q3 = df[x].describe().T[\"75%\"]\n",
    "    iqr = q3-q1\n",
    "    inner = q1 -1.5*iqr\n",
    "    outer = q3 +1.5*iqr\n",
    "    out=[]\n",
    "    pos=[]\n",
    "    for i,j in df[x].iteritems():\n",
    "        if inner<j<outer:\n",
    "            pass\n",
    "        else:\n",
    "            out.append(j)\n",
    "            pos.append(i)\n",
    "    return out,pos\n",
    "\n",
    "def feature_box_kde_normality(x):\n",
    "    normality_test(df[x])\n",
    "    out=univariate_outlier(x)\n",
    "    if len(out)==0:\n",
    "        print(f\"There is no outlier in {x}\")\n",
    "    else:\n",
    "        print(\"Outlier :\",out)\n",
    "    f,(ax1,ax2) = plt.subplots(1,2,figsize=[15,3])\n",
    "    sns.boxplot(data=df,x=x,ax=ax1)\n",
    "    sns.kdeplot(data=df,x=x,ax=ax2)\n",
    "    \n",
    "def normality_test(x):\n",
    "    s,p = shapiro(x)\n",
    "    print(f\"The statistic value is {s} with p-value : {p}\")\n",
    "    if p>0.05:\n",
    "        print(f\"{x.name} is normally distributed\")\n",
    "    else:\n",
    "        print(f\"{x.name} is not normally distributed\")\n",
    "        \n",
    "def missing_values(df):\n",
    "    for i in df.columns:\n",
    "        df[i].fillna(df[i].mode()[0],inplace=True)\n",
    "        \n",
    "def feature_analysis(x):\n",
    "    a = df[x].unique()\n",
    "    d = df[x].value_counts()\n",
    "    b = df[x].value_counts(normalize = True)\n",
    "    c = df[x].isna().sum()\n",
    "    print('unique_values:', a,'value_counts:',d,'proportion of value:', b,'count of nan values:', c)\n",
    "    \n",
    "def count_plot(x):\n",
    "    fig, (axis)  = plt.subplots(1, 1,figsize=(10,7))\n",
    "    sns.countplot(x=df[x], data=df, ax=axis)\n",
    "    plt.title('Count Plot for Categorical Variable ',x, fontsize = 15)\n",
    "\n",
    "def high_frequency(x):\n",
    "    sns.countplot(df[x])\n",
    "    print('the variable with more frequency is', df[x].mode()[0])\n",
    "    \n",
    "def comparison_plot(x,y):\n",
    "    fig,(axis1) = plt.subplots(1,1,figsize=(15,10))\n",
    "    sns.countplot(x=df[x], hue= y ,data=df, ax = axis1)\n",
    "    plt.show()\n",
    "    \n",
    "def multi_comparison (x,y,z):\n",
    "    fig, (axis1)  = plt.subplots(1, 1,figsize=(20,5))\n",
    "    sns.barplot(x=df[x], y= df[y], hue=df[z], data=df, ax=axis1)\n",
    "    \n",
    "\n",
    "def cat_dtype_change(x):\n",
    "    df[x]= df[x].astype('object')\n",
    "    df[x].info()\n",
    "    \n",
    "def model_build(x_train, y_train):\n",
    "    Logit_Model = LogisticRegression()\n",
    "    Logit_Model.fit(x_train,y_train)\n",
    "    decision_tree = DecisionTreeClassifier(criterion = 'entropy')\n",
    "    decision_tree.fit(x_train,y_train)\n",
    "    random_forest = RandomForestClassifier(n_estimators=10)\n",
    "    random_forest.fit(x_train, y_train)\n",
    "    models = {'logis': Logit_Model, 'decision tree': decision_tree, 'random_forest': random_forest}\n",
    "    return models\n",
    "\n",
    "def train_test(x,y):\n",
    "    x_encoded = pd.get_dummies(x, drop_first=True)\n",
    "    scaler = StandardScaler()\n",
    "    scaler.fit(x_encoded)\n",
    "    x1 = scaler.fit_transform(x_encoded)\n",
    "    x_train, x_test, y_train, y_test = train_test_split(x1, y, test_size=0.3, random_state=45)\n",
    "    \n",
    "\n",
    "def count_pie(x):\n",
    "    plt.figure(figsize = (15,5))\n",
    "    explode = [0.15,0]\n",
    "    plt.subplot(121)\n",
    "    df[x].value_counts().plot(kind ='pie',autopct = '%.2f',explode=explode)\n",
    "    plt.subplot(122)\n",
    "    sns.countplot(data = df, x = df[x])\n",
    "    print('the variable with more frequency is', df[x].mode()[0])\n",
    "        "
   ]
  },
  {
   "cell_type": "markdown",
   "id": "efbd4684",
   "metadata": {},
   "source": [
    "# IMPORT DATA"
   ]
  },
  {
   "cell_type": "code",
   "execution_count": 10,
   "id": "65dc6ea4",
   "metadata": {},
   "outputs": [],
   "source": [
    "df = pd.read_csv('diabetes.csv')"
   ]
  },
  {
   "cell_type": "code",
   "execution_count": 11,
   "id": "b540d828",
   "metadata": {},
   "outputs": [
    {
     "data": {
      "text/html": [
       "<div>\n",
       "<style scoped>\n",
       "    .dataframe tbody tr th:only-of-type {\n",
       "        vertical-align: middle;\n",
       "    }\n",
       "\n",
       "    .dataframe tbody tr th {\n",
       "        vertical-align: top;\n",
       "    }\n",
       "\n",
       "    .dataframe thead th {\n",
       "        text-align: right;\n",
       "    }\n",
       "</style>\n",
       "<table border=\"1\" class=\"dataframe\">\n",
       "  <thead>\n",
       "    <tr style=\"text-align: right;\">\n",
       "      <th></th>\n",
       "      <th>Pregnancies</th>\n",
       "      <th>Glucose</th>\n",
       "      <th>BloodPressure</th>\n",
       "      <th>SkinThickness</th>\n",
       "      <th>Insulin</th>\n",
       "      <th>BMI</th>\n",
       "      <th>DiabetesPedigreeFunction</th>\n",
       "      <th>Age</th>\n",
       "      <th>Outcome</th>\n",
       "    </tr>\n",
       "  </thead>\n",
       "  <tbody>\n",
       "    <tr>\n",
       "      <th>0</th>\n",
       "      <td>6</td>\n",
       "      <td>148</td>\n",
       "      <td>72</td>\n",
       "      <td>35</td>\n",
       "      <td>0</td>\n",
       "      <td>33.6</td>\n",
       "      <td>0.627</td>\n",
       "      <td>50</td>\n",
       "      <td>1</td>\n",
       "    </tr>\n",
       "    <tr>\n",
       "      <th>1</th>\n",
       "      <td>1</td>\n",
       "      <td>85</td>\n",
       "      <td>66</td>\n",
       "      <td>29</td>\n",
       "      <td>0</td>\n",
       "      <td>26.6</td>\n",
       "      <td>0.351</td>\n",
       "      <td>31</td>\n",
       "      <td>0</td>\n",
       "    </tr>\n",
       "    <tr>\n",
       "      <th>2</th>\n",
       "      <td>8</td>\n",
       "      <td>183</td>\n",
       "      <td>64</td>\n",
       "      <td>0</td>\n",
       "      <td>0</td>\n",
       "      <td>23.3</td>\n",
       "      <td>0.672</td>\n",
       "      <td>32</td>\n",
       "      <td>1</td>\n",
       "    </tr>\n",
       "    <tr>\n",
       "      <th>3</th>\n",
       "      <td>1</td>\n",
       "      <td>89</td>\n",
       "      <td>66</td>\n",
       "      <td>23</td>\n",
       "      <td>94</td>\n",
       "      <td>28.1</td>\n",
       "      <td>0.167</td>\n",
       "      <td>21</td>\n",
       "      <td>0</td>\n",
       "    </tr>\n",
       "    <tr>\n",
       "      <th>4</th>\n",
       "      <td>0</td>\n",
       "      <td>137</td>\n",
       "      <td>40</td>\n",
       "      <td>35</td>\n",
       "      <td>168</td>\n",
       "      <td>43.1</td>\n",
       "      <td>2.288</td>\n",
       "      <td>33</td>\n",
       "      <td>1</td>\n",
       "    </tr>\n",
       "    <tr>\n",
       "      <th>...</th>\n",
       "      <td>...</td>\n",
       "      <td>...</td>\n",
       "      <td>...</td>\n",
       "      <td>...</td>\n",
       "      <td>...</td>\n",
       "      <td>...</td>\n",
       "      <td>...</td>\n",
       "      <td>...</td>\n",
       "      <td>...</td>\n",
       "    </tr>\n",
       "    <tr>\n",
       "      <th>763</th>\n",
       "      <td>10</td>\n",
       "      <td>101</td>\n",
       "      <td>76</td>\n",
       "      <td>48</td>\n",
       "      <td>180</td>\n",
       "      <td>32.9</td>\n",
       "      <td>0.171</td>\n",
       "      <td>63</td>\n",
       "      <td>0</td>\n",
       "    </tr>\n",
       "    <tr>\n",
       "      <th>764</th>\n",
       "      <td>2</td>\n",
       "      <td>122</td>\n",
       "      <td>70</td>\n",
       "      <td>27</td>\n",
       "      <td>0</td>\n",
       "      <td>36.8</td>\n",
       "      <td>0.340</td>\n",
       "      <td>27</td>\n",
       "      <td>0</td>\n",
       "    </tr>\n",
       "    <tr>\n",
       "      <th>765</th>\n",
       "      <td>5</td>\n",
       "      <td>121</td>\n",
       "      <td>72</td>\n",
       "      <td>23</td>\n",
       "      <td>112</td>\n",
       "      <td>26.2</td>\n",
       "      <td>0.245</td>\n",
       "      <td>30</td>\n",
       "      <td>0</td>\n",
       "    </tr>\n",
       "    <tr>\n",
       "      <th>766</th>\n",
       "      <td>1</td>\n",
       "      <td>126</td>\n",
       "      <td>60</td>\n",
       "      <td>0</td>\n",
       "      <td>0</td>\n",
       "      <td>30.1</td>\n",
       "      <td>0.349</td>\n",
       "      <td>47</td>\n",
       "      <td>1</td>\n",
       "    </tr>\n",
       "    <tr>\n",
       "      <th>767</th>\n",
       "      <td>1</td>\n",
       "      <td>93</td>\n",
       "      <td>70</td>\n",
       "      <td>31</td>\n",
       "      <td>0</td>\n",
       "      <td>30.4</td>\n",
       "      <td>0.315</td>\n",
       "      <td>23</td>\n",
       "      <td>0</td>\n",
       "    </tr>\n",
       "  </tbody>\n",
       "</table>\n",
       "<p>768 rows × 9 columns</p>\n",
       "</div>"
      ],
      "text/plain": [
       "     Pregnancies  Glucose  BloodPressure  SkinThickness  Insulin   BMI  \\\n",
       "0              6      148             72             35        0  33.6   \n",
       "1              1       85             66             29        0  26.6   \n",
       "2              8      183             64              0        0  23.3   \n",
       "3              1       89             66             23       94  28.1   \n",
       "4              0      137             40             35      168  43.1   \n",
       "..           ...      ...            ...            ...      ...   ...   \n",
       "763           10      101             76             48      180  32.9   \n",
       "764            2      122             70             27        0  36.8   \n",
       "765            5      121             72             23      112  26.2   \n",
       "766            1      126             60              0        0  30.1   \n",
       "767            1       93             70             31        0  30.4   \n",
       "\n",
       "     DiabetesPedigreeFunction  Age  Outcome  \n",
       "0                       0.627   50        1  \n",
       "1                       0.351   31        0  \n",
       "2                       0.672   32        1  \n",
       "3                       0.167   21        0  \n",
       "4                       2.288   33        1  \n",
       "..                        ...  ...      ...  \n",
       "763                     0.171   63        0  \n",
       "764                     0.340   27        0  \n",
       "765                     0.245   30        0  \n",
       "766                     0.349   47        1  \n",
       "767                     0.315   23        0  \n",
       "\n",
       "[768 rows x 9 columns]"
      ]
     },
     "execution_count": 11,
     "metadata": {},
     "output_type": "execute_result"
    }
   ],
   "source": [
    "df"
   ]
  },
  {
   "cell_type": "code",
   "execution_count": 12,
   "id": "e2ac844c",
   "metadata": {},
   "outputs": [
    {
     "name": "stdout",
     "output_type": "stream",
     "text": [
      "<class 'pandas.core.frame.DataFrame'>\n",
      "RangeIndex: 768 entries, 0 to 767\n",
      "Data columns (total 9 columns):\n",
      " #   Column                    Non-Null Count  Dtype  \n",
      "---  ------                    --------------  -----  \n",
      " 0   Pregnancies               768 non-null    int64  \n",
      " 1   Glucose                   768 non-null    int64  \n",
      " 2   BloodPressure             768 non-null    int64  \n",
      " 3   SkinThickness             768 non-null    int64  \n",
      " 4   Insulin                   768 non-null    int64  \n",
      " 5   BMI                       768 non-null    float64\n",
      " 6   DiabetesPedigreeFunction  768 non-null    float64\n",
      " 7   Age                       768 non-null    int64  \n",
      " 8   Outcome                   768 non-null    int64  \n",
      "dtypes: float64(2), int64(7)\n",
      "memory usage: 54.1 KB\n"
     ]
    }
   ],
   "source": [
    "# it gives the information about the data and datatypes\n",
    "df.info()"
   ]
  },
  {
   "cell_type": "code",
   "execution_count": 13,
   "id": "822ef989",
   "metadata": {},
   "outputs": [
    {
     "data": {
      "text/plain": [
       "(768, 9)"
      ]
     },
     "execution_count": 13,
     "metadata": {},
     "output_type": "execute_result"
    }
   ],
   "source": [
    "# It gives shape of the dataset\n",
    "df.shape"
   ]
  },
  {
   "cell_type": "code",
   "execution_count": 14,
   "id": "4fb04c4e",
   "metadata": {},
   "outputs": [],
   "source": [
    "df.columns= list(map(lambda x:x.lower().replace(' ','_'),df.columns))"
   ]
  },
  {
   "cell_type": "code",
   "execution_count": 15,
   "id": "b57abeca",
   "metadata": {},
   "outputs": [
    {
     "data": {
      "text/plain": [
       "Index(['pregnancies', 'glucose', 'bloodpressure', 'skinthickness', 'insulin',\n",
       "       'bmi', 'diabetespedigreefunction', 'age', 'outcome'],\n",
       "      dtype='object')"
      ]
     },
     "execution_count": 15,
     "metadata": {},
     "output_type": "execute_result"
    }
   ],
   "source": [
    "df.columns"
   ]
  },
  {
   "cell_type": "markdown",
   "id": "a7613bff",
   "metadata": {},
   "source": [
    "# MISSING VALUES"
   ]
  },
  {
   "cell_type": "code",
   "execution_count": 16,
   "id": "ebf76d26",
   "metadata": {},
   "outputs": [],
   "source": [
    "# we have to check whether there is a missing values in the dataset if there is missing values impute them with mode \n",
    " #mode is for both categorical and numerical data "
   ]
  },
  {
   "cell_type": "code",
   "execution_count": 17,
   "id": "e425fdc4",
   "metadata": {},
   "outputs": [
    {
     "data": {
      "text/plain": [
       "pregnancies                 0\n",
       "glucose                     0\n",
       "bloodpressure               0\n",
       "skinthickness               0\n",
       "insulin                     0\n",
       "bmi                         0\n",
       "diabetespedigreefunction    0\n",
       "age                         0\n",
       "outcome                     0\n",
       "dtype: int64"
      ]
     },
     "execution_count": 17,
     "metadata": {},
     "output_type": "execute_result"
    }
   ],
   "source": [
    "# We use this \"isna function\" to find missing values inthe data otherwise called as nan values\n",
    "df.isna().sum()"
   ]
  },
  {
   "cell_type": "code",
   "execution_count": 18,
   "id": "84e7f2c0",
   "metadata": {},
   "outputs": [
    {
     "data": {
      "text/plain": [
       "pregnancies                 0.0\n",
       "glucose                     0.0\n",
       "bloodpressure               0.0\n",
       "skinthickness               0.0\n",
       "insulin                     0.0\n",
       "bmi                         0.0\n",
       "diabetespedigreefunction    0.0\n",
       "age                         0.0\n",
       "outcome                     0.0\n",
       "dtype: float64"
      ]
     },
     "execution_count": 18,
     "metadata": {},
     "output_type": "execute_result"
    }
   ],
   "source": [
    "# to find the proportion of the missing values we use this function\n",
    "df.isna().sum()/df.shape[0]*100"
   ]
  },
  {
   "cell_type": "code",
   "execution_count": 19,
   "id": "9fdecc63",
   "metadata": {},
   "outputs": [
    {
     "data": {
      "text/plain": [
       "<AxesSubplot:>"
      ]
     },
     "execution_count": 19,
     "metadata": {},
     "output_type": "execute_result"
    },
    {
     "data": {
      "image/png": "[encoded data removed]",
      "text/plain": [
       "<Figure size 1800x720 with 3 Axes>"
      ]
     },
     "metadata": {
      "needs_background": "light"
     },
     "output_type": "display_data"
    }
   ],
   "source": [
    "# Checking NaN values we can use this plot\n",
    "msn.bar(df)"
   ]
  },
  {
   "cell_type": "raw",
   "id": "2a110df4",
   "metadata": {},
   "source": [
    "there is no missing values in the dataset."
   ]
  },
  {
   "cell_type": "code",
   "execution_count": 20,
   "id": "3be91851",
   "metadata": {},
   "outputs": [
    {
     "data": {
      "text/html": [
       "<style type=\"text/css\">\n",
       "#T_42e60_row0_col0, #T_42e60_row0_col1, #T_42e60_row0_col2, #T_42e60_row0_col3, #T_42e60_row0_col4, #T_42e60_row0_col5, #T_42e60_row0_col6, #T_42e60_row0_col7, #T_42e60_row0_col8 {\n",
       "  background-color: #171112;\n",
       "  color: #f1f1f1;\n",
       "}\n",
       "#T_42e60_row1_col0, #T_42e60_row2_col0, #T_42e60_row6_col0 {\n",
       "  background-color: #febfca;\n",
       "  color: #000000;\n",
       "}\n",
       "#T_42e60_row1_col1, #T_42e60_row7_col2 {\n",
       "  background-color: #dba5ae;\n",
       "  color: #000000;\n",
       "}\n",
       "#T_42e60_row1_col2, #T_42e60_row7_col5 {\n",
       "  background-color: #ebb1bb;\n",
       "  color: #000000;\n",
       "}\n",
       "#T_42e60_row1_col3, #T_42e60_row3_col7, #T_42e60_row5_col3 {\n",
       "  background-color: #f9bbc6;\n",
       "  color: #000000;\n",
       "}\n",
       "#T_42e60_row1_col4, #T_42e60_row6_col2, #T_42e60_row7_col7 {\n",
       "  background-color: #e7aeb8;\n",
       "  color: #000000;\n",
       "}\n",
       "#T_42e60_row1_col5, #T_42e60_row2_col1, #T_42e60_row5_col4, #T_42e60_row5_col5, #T_42e60_row6_col3 {\n",
       "  background-color: #f6b9c4;\n",
       "  color: #000000;\n",
       "}\n",
       "#T_42e60_row1_col6, #T_42e60_row1_col8, #T_42e60_row2_col6, #T_42e60_row2_col8, #T_42e60_row3_col0, #T_42e60_row3_col1, #T_42e60_row3_col2, #T_42e60_row3_col3, #T_42e60_row3_col4, #T_42e60_row3_col5, #T_42e60_row3_col6, #T_42e60_row3_col8, #T_42e60_row4_col0, #T_42e60_row4_col3, #T_42e60_row4_col4, #T_42e60_row4_col6, #T_42e60_row4_col8, #T_42e60_row5_col0, #T_42e60_row5_col6, #T_42e60_row5_col8, #T_42e60_row6_col6, #T_42e60_row6_col8, #T_42e60_row7_col6, #T_42e60_row7_col8 {\n",
       "  background-color: #ffc0cb;\n",
       "  color: #000000;\n",
       "}\n",
       "#T_42e60_row1_col7 {\n",
       "  background-color: #f5b8c3;\n",
       "  color: #000000;\n",
       "}\n",
       "#T_42e60_row2_col2, #T_42e60_row7_col0 {\n",
       "  background-color: #fabcc7;\n",
       "  color: #000000;\n",
       "}\n",
       "#T_42e60_row2_col3 {\n",
       "  background-color: #fbbdc8;\n",
       "  color: #000000;\n",
       "}\n",
       "#T_42e60_row2_col4 {\n",
       "  background-color: #dda6b0;\n",
       "  color: #000000;\n",
       "}\n",
       "#T_42e60_row2_col5 {\n",
       "  background-color: #fdbec9;\n",
       "  color: #000000;\n",
       "}\n",
       "#T_42e60_row2_col7 {\n",
       "  background-color: #fcbec9;\n",
       "  color: #000000;\n",
       "}\n",
       "#T_42e60_row4_col1, #T_42e60_row7_col3 {\n",
       "  background-color: #e2aab4;\n",
       "  color: #000000;\n",
       "}\n",
       "#T_42e60_row4_col2 {\n",
       "  background-color: #edb2bd;\n",
       "  color: #000000;\n",
       "}\n",
       "#T_42e60_row4_col5, #T_42e60_row5_col7 {\n",
       "  background-color: #f7bac5;\n",
       "  color: #000000;\n",
       "}\n",
       "#T_42e60_row4_col7 {\n",
       "  background-color: #f8bbc5;\n",
       "  color: #000000;\n",
       "}\n",
       "#T_42e60_row5_col1 {\n",
       "  background-color: #dca6af;\n",
       "  color: #000000;\n",
       "}\n",
       "#T_42e60_row5_col2 {\n",
       "  background-color: #eab0ba;\n",
       "  color: #000000;\n",
       "}\n",
       "#T_42e60_row6_col1 {\n",
       "  background-color: #d5a0aa;\n",
       "  color: #000000;\n",
       "}\n",
       "#T_42e60_row6_col4 {\n",
       "  background-color: #d9a3ad;\n",
       "  color: #000000;\n",
       "}\n",
       "#T_42e60_row6_col5 {\n",
       "  background-color: #f4b8c2;\n",
       "  color: #000000;\n",
       "}\n",
       "#T_42e60_row6_col7 {\n",
       "  background-color: #f3b7c1;\n",
       "  color: #000000;\n",
       "}\n",
       "#T_42e60_row7_col1 {\n",
       "  background-color: #c3939b;\n",
       "  color: #f1f1f1;\n",
       "}\n",
       "#T_42e60_row7_col4 {\n",
       "  background-color: #000000;\n",
       "  color: #f1f1f1;\n",
       "}\n",
       "</style>\n",
       "<table id=\"T_42e60\">\n",
       "  <thead>\n",
       "    <tr>\n",
       "      <th class=\"blank level0\" >&nbsp;</th>\n",
       "      <th id=\"T_42e60_level0_col0\" class=\"col_heading level0 col0\" >pregnancies</th>\n",
       "      <th id=\"T_42e60_level0_col1\" class=\"col_heading level0 col1\" >glucose</th>\n",
       "      <th id=\"T_42e60_level0_col2\" class=\"col_heading level0 col2\" >bloodpressure</th>\n",
       "      <th id=\"T_42e60_level0_col3\" class=\"col_heading level0 col3\" >skinthickness</th>\n",
       "      <th id=\"T_42e60_level0_col4\" class=\"col_heading level0 col4\" >insulin</th>\n",
       "      <th id=\"T_42e60_level0_col5\" class=\"col_heading level0 col5\" >bmi</th>\n",
       "      <th id=\"T_42e60_level0_col6\" class=\"col_heading level0 col6\" >diabetespedigreefunction</th>\n",
       "      <th id=\"T_42e60_level0_col7\" class=\"col_heading level0 col7\" >age</th>\n",
       "      <th id=\"T_42e60_level0_col8\" class=\"col_heading level0 col8\" >outcome</th>\n",
       "    </tr>\n",
       "  </thead>\n",
       "  <tbody>\n",
       "    <tr>\n",
       "      <th id=\"T_42e60_level0_row0\" class=\"row_heading level0 row0\" >count</th>\n",
       "      <td id=\"T_42e60_row0_col0\" class=\"data row0 col0\" >768.000000</td>\n",
       "      <td id=\"T_42e60_row0_col1\" class=\"data row0 col1\" >768.000000</td>\n",
       "      <td id=\"T_42e60_row0_col2\" class=\"data row0 col2\" >768.000000</td>\n",
       "      <td id=\"T_42e60_row0_col3\" class=\"data row0 col3\" >768.000000</td>\n",
       "      <td id=\"T_42e60_row0_col4\" class=\"data row0 col4\" >768.000000</td>\n",
       "      <td id=\"T_42e60_row0_col5\" class=\"data row0 col5\" >768.000000</td>\n",
       "      <td id=\"T_42e60_row0_col6\" class=\"data row0 col6\" >768.000000</td>\n",
       "      <td id=\"T_42e60_row0_col7\" class=\"data row0 col7\" >768.000000</td>\n",
       "      <td id=\"T_42e60_row0_col8\" class=\"data row0 col8\" >768.000000</td>\n",
       "    </tr>\n",
       "    <tr>\n",
       "      <th id=\"T_42e60_level0_row1\" class=\"row_heading level0 row1\" >mean</th>\n",
       "      <td id=\"T_42e60_row1_col0\" class=\"data row1 col0\" >3.845052</td>\n",
       "      <td id=\"T_42e60_row1_col1\" class=\"data row1 col1\" >120.894531</td>\n",
       "      <td id=\"T_42e60_row1_col2\" class=\"data row1 col2\" >69.105469</td>\n",
       "      <td id=\"T_42e60_row1_col3\" class=\"data row1 col3\" >20.536458</td>\n",
       "      <td id=\"T_42e60_row1_col4\" class=\"data row1 col4\" >79.799479</td>\n",
       "      <td id=\"T_42e60_row1_col5\" class=\"data row1 col5\" >31.992578</td>\n",
       "      <td id=\"T_42e60_row1_col6\" class=\"data row1 col6\" >0.471876</td>\n",
       "      <td id=\"T_42e60_row1_col7\" class=\"data row1 col7\" >33.240885</td>\n",
       "      <td id=\"T_42e60_row1_col8\" class=\"data row1 col8\" >0.348958</td>\n",
       "    </tr>\n",
       "    <tr>\n",
       "      <th id=\"T_42e60_level0_row2\" class=\"row_heading level0 row2\" >std</th>\n",
       "      <td id=\"T_42e60_row2_col0\" class=\"data row2 col0\" >3.369578</td>\n",
       "      <td id=\"T_42e60_row2_col1\" class=\"data row2 col1\" >31.972618</td>\n",
       "      <td id=\"T_42e60_row2_col2\" class=\"data row2 col2\" >19.355807</td>\n",
       "      <td id=\"T_42e60_row2_col3\" class=\"data row2 col3\" >15.952218</td>\n",
       "      <td id=\"T_42e60_row2_col4\" class=\"data row2 col4\" >115.244002</td>\n",
       "      <td id=\"T_42e60_row2_col5\" class=\"data row2 col5\" >7.884160</td>\n",
       "      <td id=\"T_42e60_row2_col6\" class=\"data row2 col6\" >0.331329</td>\n",
       "      <td id=\"T_42e60_row2_col7\" class=\"data row2 col7\" >11.760232</td>\n",
       "      <td id=\"T_42e60_row2_col8\" class=\"data row2 col8\" >0.476951</td>\n",
       "    </tr>\n",
       "    <tr>\n",
       "      <th id=\"T_42e60_level0_row3\" class=\"row_heading level0 row3\" >min</th>\n",
       "      <td id=\"T_42e60_row3_col0\" class=\"data row3 col0\" >0.000000</td>\n",
       "      <td id=\"T_42e60_row3_col1\" class=\"data row3 col1\" >0.000000</td>\n",
       "      <td id=\"T_42e60_row3_col2\" class=\"data row3 col2\" >0.000000</td>\n",
       "      <td id=\"T_42e60_row3_col3\" class=\"data row3 col3\" >0.000000</td>\n",
       "      <td id=\"T_42e60_row3_col4\" class=\"data row3 col4\" >0.000000</td>\n",
       "      <td id=\"T_42e60_row3_col5\" class=\"data row3 col5\" >0.000000</td>\n",
       "      <td id=\"T_42e60_row3_col6\" class=\"data row3 col6\" >0.078000</td>\n",
       "      <td id=\"T_42e60_row3_col7\" class=\"data row3 col7\" >21.000000</td>\n",
       "      <td id=\"T_42e60_row3_col8\" class=\"data row3 col8\" >0.000000</td>\n",
       "    </tr>\n",
       "    <tr>\n",
       "      <th id=\"T_42e60_level0_row4\" class=\"row_heading level0 row4\" >25%</th>\n",
       "      <td id=\"T_42e60_row4_col0\" class=\"data row4 col0\" >1.000000</td>\n",
       "      <td id=\"T_42e60_row4_col1\" class=\"data row4 col1\" >99.000000</td>\n",
       "      <td id=\"T_42e60_row4_col2\" class=\"data row4 col2\" >62.000000</td>\n",
       "      <td id=\"T_42e60_row4_col3\" class=\"data row4 col3\" >0.000000</td>\n",
       "      <td id=\"T_42e60_row4_col4\" class=\"data row4 col4\" >0.000000</td>\n",
       "      <td id=\"T_42e60_row4_col5\" class=\"data row4 col5\" >27.300000</td>\n",
       "      <td id=\"T_42e60_row4_col6\" class=\"data row4 col6\" >0.243750</td>\n",
       "      <td id=\"T_42e60_row4_col7\" class=\"data row4 col7\" >24.000000</td>\n",
       "      <td id=\"T_42e60_row4_col8\" class=\"data row4 col8\" >0.000000</td>\n",
       "    </tr>\n",
       "    <tr>\n",
       "      <th id=\"T_42e60_level0_row5\" class=\"row_heading level0 row5\" >50%</th>\n",
       "      <td id=\"T_42e60_row5_col0\" class=\"data row5 col0\" >3.000000</td>\n",
       "      <td id=\"T_42e60_row5_col1\" class=\"data row5 col1\" >117.000000</td>\n",
       "      <td id=\"T_42e60_row5_col2\" class=\"data row5 col2\" >72.000000</td>\n",
       "      <td id=\"T_42e60_row5_col3\" class=\"data row5 col3\" >23.000000</td>\n",
       "      <td id=\"T_42e60_row5_col4\" class=\"data row5 col4\" >30.500000</td>\n",
       "      <td id=\"T_42e60_row5_col5\" class=\"data row5 col5\" >32.000000</td>\n",
       "      <td id=\"T_42e60_row5_col6\" class=\"data row5 col6\" >0.372500</td>\n",
       "      <td id=\"T_42e60_row5_col7\" class=\"data row5 col7\" >29.000000</td>\n",
       "      <td id=\"T_42e60_row5_col8\" class=\"data row5 col8\" >0.000000</td>\n",
       "    </tr>\n",
       "    <tr>\n",
       "      <th id=\"T_42e60_level0_row6\" class=\"row_heading level0 row6\" >75%</th>\n",
       "      <td id=\"T_42e60_row6_col0\" class=\"data row6 col0\" >6.000000</td>\n",
       "      <td id=\"T_42e60_row6_col1\" class=\"data row6 col1\" >140.250000</td>\n",
       "      <td id=\"T_42e60_row6_col2\" class=\"data row6 col2\" >80.000000</td>\n",
       "      <td id=\"T_42e60_row6_col3\" class=\"data row6 col3\" >32.000000</td>\n",
       "      <td id=\"T_42e60_row6_col4\" class=\"data row6 col4\" >127.250000</td>\n",
       "      <td id=\"T_42e60_row6_col5\" class=\"data row6 col5\" >36.600000</td>\n",
       "      <td id=\"T_42e60_row6_col6\" class=\"data row6 col6\" >0.626250</td>\n",
       "      <td id=\"T_42e60_row6_col7\" class=\"data row6 col7\" >41.000000</td>\n",
       "      <td id=\"T_42e60_row6_col8\" class=\"data row6 col8\" >1.000000</td>\n",
       "    </tr>\n",
       "    <tr>\n",
       "      <th id=\"T_42e60_level0_row7\" class=\"row_heading level0 row7\" >max</th>\n",
       "      <td id=\"T_42e60_row7_col0\" class=\"data row7 col0\" >17.000000</td>\n",
       "      <td id=\"T_42e60_row7_col1\" class=\"data row7 col1\" >199.000000</td>\n",
       "      <td id=\"T_42e60_row7_col2\" class=\"data row7 col2\" >122.000000</td>\n",
       "      <td id=\"T_42e60_row7_col3\" class=\"data row7 col3\" >99.000000</td>\n",
       "      <td id=\"T_42e60_row7_col4\" class=\"data row7 col4\" >846.000000</td>\n",
       "      <td id=\"T_42e60_row7_col5\" class=\"data row7 col5\" >67.100000</td>\n",
       "      <td id=\"T_42e60_row7_col6\" class=\"data row7 col6\" >2.420000</td>\n",
       "      <td id=\"T_42e60_row7_col7\" class=\"data row7 col7\" >81.000000</td>\n",
       "      <td id=\"T_42e60_row7_col8\" class=\"data row7 col8\" >1.000000</td>\n",
       "    </tr>\n",
       "  </tbody>\n",
       "</table>\n"
      ],
      "text/plain": [
       "<pandas.io.formats.style.Styler at 0x1f59f4d1be0>"
      ]
     },
     "execution_count": 20,
     "metadata": {},
     "output_type": "execute_result"
    }
   ],
   "source": [
    "cm = sns.color_palette(\"blend:pink,black\", as_cmap=True)\n",
    "df.describe().style.background_gradient(cmap = cm,axis = None)"
   ]
  },
  {
   "cell_type": "raw",
   "id": "2c8be585",
   "metadata": {},
   "source": [
    "minimum value cant be zero there is some outliers in the dataset."
   ]
  },
  {
   "cell_type": "raw",
   "id": "ac676029",
   "metadata": {},
   "source": [
    "1. the mean value is less then the median in case of: 'BloodPressure', 'SkinThickness', 'BMI'\n",
    "2. the mean value is more then the median in case of: 'Pregnancies', 'Glucose', 'Insulin', 'DiabetesPedigreeFunction', 'Age'\n",
    "and much more in case of: 'Insulin', 'DiabetesPedigreeFunction',\n",
    "3. There is notably a large difference between 75th %tile and max values of the predictors: 'Pregnancies', 'SkinThickness', 'Insulin', 'BMI', 'DiabetesPedigreeFunction' 'Age'\n",
    "4. Thus observations 1 and 2 suggests that there are extreme values-Outliers in our data set.\n",
    "5. Target variable/Dependent variable ('Outcome') is discrete, categorical, binary in nature. (0 = No disease, 1 = Disease)"
   ]
  },
  {
   "cell_type": "code",
   "execution_count": null,
   "id": "ee52a6cb",
   "metadata": {},
   "outputs": [],
   "source": []
  },
  {
   "cell_type": "markdown",
   "id": "eb4d367a",
   "metadata": {},
   "source": [
    "# PREGNANCIES"
   ]
  },
  {
   "cell_type": "code",
   "execution_count": 22,
   "id": "91f960dd",
   "metadata": {},
   "outputs": [
    {
     "data": {
      "text/plain": [
       "17"
      ]
     },
     "execution_count": 22,
     "metadata": {},
     "output_type": "execute_result"
    }
   ],
   "source": [
    "df['pregnancies'].value_counts().count()"
   ]
  },
  {
   "cell_type": "code",
   "execution_count": 15,
   "id": "a8e3710d",
   "metadata": {},
   "outputs": [
    {
     "name": "stdout",
     "output_type": "stream",
     "text": [
      "unique_values: [ 6  1  8  0  5  3 10  2  4  7  9 11 13 15 17 12 14] value_counts: 1     135\n",
      "0     111\n",
      "2     103\n",
      "3      75\n",
      "4      68\n",
      "5      57\n",
      "6      50\n",
      "7      45\n",
      "8      38\n",
      "9      28\n",
      "10     24\n",
      "11     11\n",
      "13     10\n",
      "12      9\n",
      "14      2\n",
      "15      1\n",
      "17      1\n",
      "Name: pregnancies, dtype: int64 proportion of value: 1     0.175781\n",
      "0     0.144531\n",
      "2     0.134115\n",
      "3     0.097656\n",
      "4     0.088542\n",
      "5     0.074219\n",
      "6     0.065104\n",
      "7     0.058594\n",
      "8     0.049479\n",
      "9     0.036458\n",
      "10    0.031250\n",
      "11    0.014323\n",
      "13    0.013021\n",
      "12    0.011719\n",
      "14    0.002604\n",
      "15    0.001302\n",
      "17    0.001302\n",
      "Name: pregnancies, dtype: float64 count of nan values: 0\n"
     ]
    }
   ],
   "source": [
    "feature_analysis('pregnancies')"
   ]
  },
  {
   "cell_type": "code",
   "execution_count": 24,
   "id": "6c8d8230",
   "metadata": {},
   "outputs": [
    {
     "name": "stdout",
     "output_type": "stream",
     "text": [
      "The statistic value is 0.9042782783508301 with p-value : 1.6080885881590613e-21\n",
      "pregnancies is not normally distributed\n",
      "Outlier : ([15, 17, 14, 14], [88, 159, 298, 455])\n"
     ]
    },
    {
     "data": {
      "image/png": "[encoded data removed]",
      "text/plain": [
       "<Figure size 1080x216 with 2 Axes>"
      ]
     },
     "metadata": {
      "needs_background": "light"
     },
     "output_type": "display_data"
    }
   ],
   "source": [
    "feature_box_kde_normality('pregnancies')"
   ]
  },
  {
   "cell_type": "code",
   "execution_count": null,
   "id": "850f5eb1",
   "metadata": {},
   "outputs": [],
   "source": [
    "RIGHT SKEWD OR POSITIVELY SKEWED ."
   ]
  },
  {
   "cell_type": "code",
   "execution_count": 25,
   "id": "edde4219",
   "metadata": {},
   "outputs": [
    {
     "data": {
      "text/plain": [
       "3.8450520833333335"
      ]
     },
     "execution_count": 25,
     "metadata": {},
     "output_type": "execute_result"
    }
   ],
   "source": [
    "df['pregnancies'].mean()"
   ]
  },
  {
   "cell_type": "code",
   "execution_count": 26,
   "id": "8fa5c461",
   "metadata": {},
   "outputs": [],
   "source": [
    "df['pregnancies']= df['pregnancies'].replace({15:4,17:4, 14:4})"
   ]
  },
  {
   "cell_type": "code",
   "execution_count": 27,
   "id": "ae8dcd20",
   "metadata": {},
   "outputs": [
    {
     "data": {
      "text/plain": [
       "<AxesSubplot:xlabel='pregnancies'>"
      ]
     },
     "execution_count": 27,
     "metadata": {},
     "output_type": "execute_result"
    },
    {
     "data": {
      "image/png": "[encoded data removed]",
      "text/plain": [
       "<Figure size 432x288 with 1 Axes>"
      ]
     },
     "metadata": {
      "needs_background": "light"
     },
     "output_type": "display_data"
    }
   ],
   "source": [
    "sns.boxplot(data = df, x= df['pregnancies'])"
   ]
  },
  {
   "cell_type": "code",
   "execution_count": 28,
   "id": "f8b1ae7f",
   "metadata": {},
   "outputs": [
    {
     "data": {
      "text/plain": [
       "14"
      ]
     },
     "execution_count": 28,
     "metadata": {},
     "output_type": "execute_result"
    }
   ],
   "source": [
    "df['pregnancies'].value_counts().count()"
   ]
  },
  {
   "cell_type": "code",
   "execution_count": 32,
   "id": "a6eabb1f",
   "metadata": {},
   "outputs": [
    {
     "name": "stdout",
     "output_type": "stream",
     "text": [
      "the variable with more frequency is 1\n"
     ]
    },
    {
     "data": {
      "image/png": "[encoded data removed]",
      "text/plain": [
       "<Figure size 432x288 with 1 Axes>"
      ]
     },
     "metadata": {
      "needs_background": "light"
     },
     "output_type": "display_data"
    }
   ],
   "source": [
    "high_frequency('pregnancies')"
   ]
  },
  {
   "cell_type": "code",
   "execution_count": 33,
   "id": "6b4020c5",
   "metadata": {},
   "outputs": [
    {
     "data": {
      "image/png": "[encoded data removed]",
      "text/plain": [
       "<Figure size 1080x720 with 1 Axes>"
      ]
     },
     "metadata": {
      "needs_background": "light"
     },
     "output_type": "display_data"
    }
   ],
   "source": [
    "comparison_plot('pregnancies','outcome')"
   ]
  },
  {
   "cell_type": "raw",
   "id": "faa9fefd",
   "metadata": {},
   "source": [
    "PREGNANCIES:\n",
    "    \n",
    "     1.EARLIER NO OF UNIQUE VALUES IN THE COLUMNS IS 18\n",
    "     2. AFTER REMOVING OUTLIERS THERE ARE 14.\n",
    "     3. NOW THERE IS NO OUTLIERS IN THE DATASET.\n",
    "     4. AVERAGE NUMBER OF PREGNANCIES ARE 4 TIMES.\n",
    "     5. high frequncy is 0 times pregnancies.\n",
    "     6. upto 6 times pregnancies no diabetes are more than having diabetes.\n",
    "     7. after 6 times having diabetes counts increases."
   ]
  },
  {
   "cell_type": "markdown",
   "id": "ee78a78b",
   "metadata": {},
   "source": [
    "# GLUCOSE"
   ]
  },
  {
   "cell_type": "code",
   "execution_count": 17,
   "id": "89c0eecc",
   "metadata": {},
   "outputs": [
    {
     "data": {
      "text/plain": [
       "136"
      ]
     },
     "execution_count": 17,
     "metadata": {},
     "output_type": "execute_result"
    }
   ],
   "source": [
    "df['glucose'].value_counts().count()"
   ]
  },
  {
   "cell_type": "code",
   "execution_count": 18,
   "id": "2ea071f7",
   "metadata": {},
   "outputs": [
    {
     "name": "stdout",
     "output_type": "stream",
     "text": [
      "unique_values: [148  85 183  89 137 116  78 115 197 125 110 168 139 189 166 100 118 107\n",
      " 103 126  99 196 119 143 147  97 145 117 109 158  88  92 122 138 102  90\n",
      " 111 180 133 106 171 159 146  71 105 101 176 150  73 187  84  44 141 114\n",
      "  95 129  79   0  62 131 112 113  74  83 136  80 123  81 134 142 144  93\n",
      " 163 151  96 155  76 160 124 162 132 120 173 170 128 108 154  57 156 153\n",
      " 188 152 104  87  75 179 130 194 181 135 184 140 177 164  91 165  86 193\n",
      " 191 161 167  77 182 157 178  61  98 127  82  72 172  94 175 195  68 186\n",
      " 198 121  67 174 199  56 169 149  65 190] value_counts: 99     17\n",
      "100    17\n",
      "111    14\n",
      "129    14\n",
      "125    14\n",
      "       ..\n",
      "191     1\n",
      "177     1\n",
      "44      1\n",
      "62      1\n",
      "190     1\n",
      "Name: glucose, Length: 136, dtype: int64 proportion of value: 99     0.022135\n",
      "100    0.022135\n",
      "111    0.018229\n",
      "129    0.018229\n",
      "125    0.018229\n",
      "         ...   \n",
      "191    0.001302\n",
      "177    0.001302\n",
      "44     0.001302\n",
      "62     0.001302\n",
      "190    0.001302\n",
      "Name: glucose, Length: 136, dtype: float64 count of nan values: 0\n"
     ]
    }
   ],
   "source": [
    "feature_analysis('glucose')"
   ]
  },
  {
   "cell_type": "code",
   "execution_count": 19,
   "id": "62364e91",
   "metadata": {},
   "outputs": [
    {
     "name": "stdout",
     "output_type": "stream",
     "text": [
      "The statistic value is 0.9701042175292969 with p-value : 1.9867612763291298e-11\n",
      "glucose is not normally distributed\n",
      "Outlier : [0, 0, 0, 0, 0]\n"
     ]
    },
    {
     "data": {
      "image/png": "[encoded data removed]",
      "text/plain": [
       "<Figure size 1080x216 with 2 Axes>"
      ]
     },
     "metadata": {
      "needs_background": "light"
     },
     "output_type": "display_data"
    }
   ],
   "source": [
    "feature_box_kde_normality('glucose')"
   ]
  },
  {
   "cell_type": "code",
   "execution_count": 35,
   "id": "fb1aed28",
   "metadata": {},
   "outputs": [
    {
     "data": {
      "text/plain": [
       "'Plasma glucose concentration a 2 hours in an oral glucose tolerance test'"
      ]
     },
     "execution_count": 35,
     "metadata": {},
     "output_type": "execute_result"
    }
   ],
   "source": [
    "data_library['Glucose']"
   ]
  },
  {
   "cell_type": "code",
   "execution_count": 37,
   "id": "061e91a2",
   "metadata": {},
   "outputs": [
    {
     "data": {
      "text/plain": [
       "117.0"
      ]
     },
     "execution_count": 37,
     "metadata": {},
     "output_type": "execute_result"
    }
   ],
   "source": [
    "df.glucose.median()"
   ]
  },
  {
   "cell_type": "code",
   "execution_count": 38,
   "id": "d792b82f",
   "metadata": {},
   "outputs": [],
   "source": [
    "df['glucose']= df['glucose'].replace({0:117})"
   ]
  },
  {
   "cell_type": "code",
   "execution_count": 39,
   "id": "1cd066d9",
   "metadata": {},
   "outputs": [
    {
     "name": "stdout",
     "output_type": "stream",
     "text": [
      "The statistic value is 0.9696223139762878 with p-value : 1.5240374934277767e-11\n",
      "glucose is not normally distributed\n",
      "Outlier : ([], [])\n"
     ]
    },
    {
     "data": {
      "image/png": "[encoded data removed]",
      "text/plain": [
       "<Figure size 1080x216 with 2 Axes>"
      ]
     },
     "metadata": {
      "needs_background": "light"
     },
     "output_type": "display_data"
    }
   ],
   "source": [
    "feature_box_kde_normality('glucose')"
   ]
  },
  {
   "cell_type": "code",
   "execution_count": 41,
   "id": "5da5bef3",
   "metadata": {},
   "outputs": [
    {
     "data": {
      "text/html": [
       "<div>\n",
       "<style scoped>\n",
       "    .dataframe tbody tr th:only-of-type {\n",
       "        vertical-align: middle;\n",
       "    }\n",
       "\n",
       "    .dataframe tbody tr th {\n",
       "        vertical-align: top;\n",
       "    }\n",
       "\n",
       "    .dataframe thead th {\n",
       "        text-align: right;\n",
       "    }\n",
       "</style>\n",
       "<table border=\"1\" class=\"dataframe\">\n",
       "  <thead>\n",
       "    <tr style=\"text-align: right;\">\n",
       "      <th></th>\n",
       "      <th>pregnancies</th>\n",
       "      <th>glucose</th>\n",
       "    </tr>\n",
       "    <tr>\n",
       "      <th>outcome</th>\n",
       "      <th></th>\n",
       "      <th></th>\n",
       "    </tr>\n",
       "  </thead>\n",
       "  <tbody>\n",
       "    <tr>\n",
       "      <th>0</th>\n",
       "      <td>3.298000</td>\n",
       "      <td>110.682000</td>\n",
       "    </tr>\n",
       "    <tr>\n",
       "      <th>1</th>\n",
       "      <td>4.701493</td>\n",
       "      <td>142.130597</td>\n",
       "    </tr>\n",
       "  </tbody>\n",
       "</table>\n",
       "</div>"
      ],
      "text/plain": [
       "         pregnancies     glucose\n",
       "outcome                         \n",
       "0           3.298000  110.682000\n",
       "1           4.701493  142.130597"
      ]
     },
     "execution_count": 41,
     "metadata": {},
     "output_type": "execute_result"
    }
   ],
   "source": [
    "df.groupby('outcome')[['pregnancies','glucose']].mean().sort_values('outcome')"
   ]
  },
  {
   "cell_type": "raw",
   "id": "697a8334",
   "metadata": {},
   "source": [
    "GLUCOSE:\n",
    "       1. GLUCOSE LEVEL CANNOT BE ZERO.\n",
    "       2. THERE IS SOME MISSING VALUES IN THE COLUMN.\n",
    "       3. TAKE AN MEAN OF GLUCOSE 110.6 HAVING NO DIABETES.\n",
    "       4. IN CASE OF PREGNANCIES ALSO 3.29 AVERAGE HAS NO DIABETES.\n",
    "       5. TAKE AN MEAN OF GLUCOSE 142.1 HAVING  DIABETES.\n",
    "       4. IN CASE OF PREGNANCIES ALSO 4.7 AVERAGE HAS  DIABETES."
   ]
  },
  {
   "cell_type": "markdown",
   "id": "4d9b602c",
   "metadata": {},
   "source": [
    "# BLOOD PRESSURE"
   ]
  },
  {
   "cell_type": "code",
   "execution_count": 24,
   "id": "283b7c7f",
   "metadata": {},
   "outputs": [
    {
     "data": {
      "text/plain": [
       "47"
      ]
     },
     "execution_count": 24,
     "metadata": {},
     "output_type": "execute_result"
    }
   ],
   "source": [
    "df['bloodpressure'].value_counts().count()"
   ]
  },
  {
   "cell_type": "code",
   "execution_count": 28,
   "id": "c93d7148",
   "metadata": {},
   "outputs": [
    {
     "name": "stdout",
     "output_type": "stream",
     "text": [
      "The statistic value is 0.8189212083816528 with p-value : 1.5840069624449098e-28\n",
      "bloodpressure is not normally distributed\n",
      "Outlier : [0, 0, 30, 110, 0, 0, 0, 0, 108, 122, 30, 0, 110, 0, 0, 0, 0, 0, 0, 0, 0, 0, 0, 108, 0, 0, 0, 0, 0, 0, 0, 0, 0, 0, 110, 0, 24, 0, 0, 0, 0, 114, 0, 0, 0]\n"
     ]
    },
    {
     "data": {
      "image/png": "[encoded data removed]",
      "text/plain": [
       "<Figure size 1080x216 with 2 Axes>"
      ]
     },
     "metadata": {
      "needs_background": "light"
     },
     "output_type": "display_data"
    }
   ],
   "source": [
    "feature_box_kde_normality('bloodpressure')"
   ]
  },
  {
   "cell_type": "code",
   "execution_count": 47,
   "id": "6f709942",
   "metadata": {},
   "outputs": [
    {
     "data": {
      "text/plain": [
       "72.0"
      ]
     },
     "execution_count": 47,
     "metadata": {},
     "output_type": "execute_result"
    }
   ],
   "source": [
    "df.bloodpressure.median()"
   ]
  },
  {
   "cell_type": "code",
   "execution_count": 48,
   "id": "71e9397d",
   "metadata": {},
   "outputs": [],
   "source": [
    "df['bloodpressure']= df['bloodpressure'].replace({0:72})"
   ]
  },
  {
   "cell_type": "code",
   "execution_count": 49,
   "id": "cae6e9f4",
   "metadata": {},
   "outputs": [
    {
     "name": "stdout",
     "output_type": "stream",
     "text": [
      "The statistic value is 0.9878154993057251 with p-value : 5.2496684475045186e-06\n",
      "bloodpressure is not normally distributed\n",
      "Outlier : ([40, 30, 110, 108, 122, 30, 110, 104, 108, 104, 110, 24, 38, 106, 106, 106, 114], [4, 18, 43, 84, 106, 125, 177, 207, 362, 440, 549, 597, 599, 658, 662, 672, 691])\n"
     ]
    },
    {
     "data": {
      "image/png": "[encoded data removed]",
      "text/plain": [
       "<Figure size 1080x216 with 2 Axes>"
      ]
     },
     "metadata": {
      "needs_background": "light"
     },
     "output_type": "display_data"
    }
   ],
   "source": [
    "feature_box_kde_normality('bloodpressure')"
   ]
  },
  {
   "cell_type": "code",
   "execution_count": 50,
   "id": "8d41cba3",
   "metadata": {},
   "outputs": [
    {
     "data": {
      "text/html": [
       "<div>\n",
       "<style scoped>\n",
       "    .dataframe tbody tr th:only-of-type {\n",
       "        vertical-align: middle;\n",
       "    }\n",
       "\n",
       "    .dataframe tbody tr th {\n",
       "        vertical-align: top;\n",
       "    }\n",
       "\n",
       "    .dataframe thead th {\n",
       "        text-align: right;\n",
       "    }\n",
       "</style>\n",
       "<table border=\"1\" class=\"dataframe\">\n",
       "  <thead>\n",
       "    <tr style=\"text-align: right;\">\n",
       "      <th></th>\n",
       "      <th>pregnancies</th>\n",
       "      <th>glucose</th>\n",
       "      <th>bloodpressure</th>\n",
       "    </tr>\n",
       "    <tr>\n",
       "      <th>outcome</th>\n",
       "      <th></th>\n",
       "      <th></th>\n",
       "      <th></th>\n",
       "    </tr>\n",
       "  </thead>\n",
       "  <tbody>\n",
       "    <tr>\n",
       "      <th>0</th>\n",
       "      <td>3.298000</td>\n",
       "      <td>110.682000</td>\n",
       "      <td>70.920000</td>\n",
       "    </tr>\n",
       "    <tr>\n",
       "      <th>1</th>\n",
       "      <td>4.701493</td>\n",
       "      <td>142.130597</td>\n",
       "      <td>75.123134</td>\n",
       "    </tr>\n",
       "  </tbody>\n",
       "</table>\n",
       "</div>"
      ],
      "text/plain": [
       "         pregnancies     glucose  bloodpressure\n",
       "outcome                                        \n",
       "0           3.298000  110.682000      70.920000\n",
       "1           4.701493  142.130597      75.123134"
      ]
     },
     "execution_count": 50,
     "metadata": {},
     "output_type": "execute_result"
    }
   ],
   "source": [
    "df.groupby('outcome')[['pregnancies','glucose','bloodpressure']].mean().sort_values('outcome')"
   ]
  },
  {
   "cell_type": "raw",
   "id": "198cfd90",
   "metadata": {},
   "source": [
    "BLOOD PRESSURE:\n",
    "    \n",
    "    1. BLOOD PRESSURE CANT BE ZER0.\n",
    "    2. TAKING THE LENGTH OF THE OUTLIERS IT COULD BE 38.\n",
    "    3. THEN IMPUTE WITH MEDIAN VALUES.\n",
    "    4. TAKE AN MEAN OF bloodpressure 70.9 HAVING NO DIABETES.\n",
    "    5. IN CASE OF PREGNANCIES ALSO 3.29 AVERAGE HAS NO DIABETES.\n",
    "    6. IN CASE OF GLUCOSE LEVEL ALSO 110.68 AVERAGE HAS NO DIABETES.\n",
    "    7. TAKE AN MEAN OF BLOODPRESSURE 75.1 HAVING  DIABETES.\n",
    "    8.  IN CASE OF PREGNANCIES ALSO 4.7 AVERAGE HAS  DIABETES.\n",
    "    9. IN CASE OF GLUCOSE LEVEL ALSO 142.13 AVERAGE HAS DIABETES."
   ]
  },
  {
   "cell_type": "markdown",
   "id": "b48fe3af",
   "metadata": {},
   "source": [
    "# skinthickness"
   ]
  },
  {
   "cell_type": "code",
   "execution_count": 29,
   "id": "ade1903a",
   "metadata": {},
   "outputs": [
    {
     "data": {
      "text/plain": [
       "51"
      ]
     },
     "execution_count": 29,
     "metadata": {},
     "output_type": "execute_result"
    }
   ],
   "source": [
    "\n",
    "df['skinthickness'].value_counts().count()"
   ]
  },
  {
   "cell_type": "code",
   "execution_count": 30,
   "id": "738f0b95",
   "metadata": {},
   "outputs": [
    {
     "name": "stdout",
     "output_type": "stream",
     "text": [
      "The statistic value is 0.90462726354599 with p-value : 1.75157635361056e-21\n",
      "skinthickness is not normally distributed\n",
      "Outlier : [99]\n"
     ]
    },
    {
     "data": {
      "image/png": "[encoded data removed]",
      "text/plain": [
       "<Figure size 1080x216 with 2 Axes>"
      ]
     },
     "metadata": {
      "needs_background": "light"
     },
     "output_type": "display_data"
    }
   ],
   "source": [
    "feature_box_kde_normality('skinthickness')"
   ]
  },
  {
   "cell_type": "code",
   "execution_count": null,
   "id": "996c92e2",
   "metadata": {},
   "outputs": [],
   "source": []
  },
  {
   "cell_type": "code",
   "execution_count": null,
   "id": "d5d061ce",
   "metadata": {},
   "outputs": [],
   "source": []
  }
 ],
 "metadata": {
  "kernelspec": {
   "display_name": "Python 3 (ipykernel)",
   "language": "python",
   "name": "python3"
  },
  "language_info": {
   "codemirror_mode": {
    "name": "ipython",
    "version": 3
   },
   "file_extension": ".py",
   "mimetype": "text/x-python",
   "name": "python",
   "nbconvert_exporter": "python",
   "pygments_lexer": "ipython3",
   "version": "3.9.13"
  }
 },
 "nbformat": 4,
 "nbformat_minor": 5
}
